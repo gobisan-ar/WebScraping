{
 "cells": [
  {
   "cell_type": "code",
   "execution_count": null,
   "id": "8c5d2498",
   "metadata": {},
   "outputs": [],
   "source": [
    "import requests\n",
    "import lxml\n",
    "import numpy as np\n",
    "from xlwt import *\n",
    "from bs4 import BeautifulSoup"
   ]
  },
  {
   "cell_type": "code",
   "execution_count": null,
   "id": "022e7811",
   "metadata": {},
   "outputs": [],
   "source": [
    "URL = \"https://www.imdb.com/chart/top/\"\n",
    "\n",
    "headers = {'User-Agent': 'Mozilla/5.0 (Macintosh; Intel Mac OS X_10_10_1)\\\n",
    "AppleWebkit/537.36 (KHTML, like Gecko) Chrome/39.0.2171.95 Safari/537.36'}"
   ]
  },
  {
   "cell_type": "code",
   "execution_count": null,
   "id": "6fda63e7",
   "metadata": {},
   "outputs": [],
   "source": [
    "respond = requests.get(URL, headers)\n",
    "bs = BeautifulSoup(respond.content, 'lxml')"
   ]
  },
  {
   "cell_type": "code",
   "execution_count": null,
   "id": "0f78cb70",
   "metadata": {},
   "outputs": [],
   "source": []
  },
  {
   "cell_type": "code",
   "execution_count": null,
   "id": "50fe7ae7",
   "metadata": {},
   "outputs": [],
   "source": [
    "table = bs.find('table', {\"data-caller-name\": \"chart-top250movie\"})\n",
    "tr = table.find_all(\"tr\")"
   ]
  },
  {
   "cell_type": "code",
   "execution_count": null,
   "id": "fccf9bcc",
   "metadata": {},
   "outputs": [],
   "source": [
    "movies_lst = []\n",
    "num = 0"
   ]
  },
  {
   "cell_type": "code",
   "execution_count": null,
   "id": "7f0160ef",
   "metadata": {},
   "outputs": [],
   "source": []
  },
  {
   "cell_type": "code",
   "execution_count": null,
   "id": "18e4317f",
   "metadata": {},
   "outputs": [],
   "source": [
    "workbook = Workbook(encoding='utf-8')\n",
    "table = workbook.add_sheet('data')\n",
    "\n",
    "table.write(0, 0, 'Number')\n",
    "table.write(0, 1, 'URL')\n",
    "table.write(0, 2, 'Name')\n",
    "table.write(0, 3, 'Summary')\n",
    "\n",
    "line = 1"
   ]
  },
  {
   "cell_type": "code",
   "execution_count": null,
   "id": "36f8694b",
   "metadata": {},
   "outputs": [],
   "source": []
  },
  {
   "cell_type": "code",
   "execution_count": null,
   "id": "66df0d32",
   "metadata": {},
   "outputs": [],
   "source": [
    "for each_tr in tr:\n",
    "    td = each_tr.find_all('td', {'class': 'titleColumn'})\n",
    "    \n",
    "    for each_td in td:\n",
    "        \n",
    "        ulink = each_td.a['href']\n",
    "        url = 'https://www.imdb.com' + ulink\n",
    "        \n",
    "        movies_lst.append(url)\n",
    "        num += 1\n",
    "        \n",
    "        movie_url = url\n",
    "        movie_respond = requests.get(movie_url, headers = headers)\n",
    "        movie_soup = BeautifulSoup(movie_respond.content, 'lxml')\n",
    "        movie_content = movie_soup.find('span', {'data-testid': 'plot-xl'})\n",
    "        movie_title = movie_soup.find('h1')\n",
    "        \n",
    "        \n",
    "        table.write(line, 0, num)\n",
    "        table.write(line, 1, url)        \n",
    "        table.write(line, 2, movie_title.string.strip())        \n",
    "        table.write(line, 3, movie_content.string.strip()) \n",
    "        \n",
    "        line += 1\n",
    "        \n",
    "        workbook.save('movies_top100.xls')"
   ]
  },
  {
   "cell_type": "code",
   "execution_count": null,
   "id": "4ca1ba62",
   "metadata": {},
   "outputs": [],
   "source": []
  }
 ],
 "metadata": {
  "kernelspec": {
   "display_name": "Python 3 (ipykernel)",
   "language": "python",
   "name": "python3"
  },
  "language_info": {
   "codemirror_mode": {
    "name": "ipython",
    "version": 3
   },
   "file_extension": ".py",
   "mimetype": "text/x-python",
   "name": "python",
   "nbconvert_exporter": "python",
   "pygments_lexer": "ipython3",
   "version": "3.9.12"
  }
 },
 "nbformat": 4,
 "nbformat_minor": 5
}

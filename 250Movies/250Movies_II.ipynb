{
  "nbformat": 4,
  "nbformat_minor": 0,
  "metadata": {
    "colab": {
      "provenance": [],
      "collapsed_sections": []
    },
    "kernelspec": {
      "name": "python3",
      "display_name": "Python 3"
    },
    "language_info": {
      "name": "python"
    }
  },
  "cells": [
    {
      "cell_type": "code",
      "execution_count": null,
      "metadata": {
        "id": "9BJhC36dFBQy"
      },
      "outputs": [],
      "source": [
        "import requests\n",
        "from bs4 import BeautifulSoup\n",
        "import lxml  #working with xml\n",
        "\n",
        "from xlwt import *"
      ]
    },
    {
      "cell_type": "code",
      "source": [
        "url = 'https://www.imdb.com/chart/top/'"
      ],
      "metadata": {
        "id": "rj7t4v9_GApR"
      },
      "execution_count": null,
      "outputs": []
    },
    {
      "cell_type": "code",
      "source": [
        "headers = {\n",
        "\n",
        "    'User-Agent': 'Mozilla/5.0 (Windows NT 6.1; WOW64) AppleWebKit/537.36 (KHTML, like Gecko) Chrome/63.0.3239.132 Safari/537.36 QIHU 360SE'\n",
        " \n",
        "    }"
      ],
      "metadata": {
        "id": "JazC-CLkGkPW"
      },
      "execution_count": null,
      "outputs": []
    },
    {
      "cell_type": "code",
      "source": [
        "f= requests.get(url,headers)"
      ],
      "metadata": {
        "id": "a1ys44mUGrwS"
      },
      "execution_count": null,
      "outputs": []
    },
    {
      "cell_type": "code",
      "source": [
        "soup = BeautifulSoup(f.content, 'lxml')"
      ],
      "metadata": {
        "id": "QM-bHB0-G-3m"
      },
      "execution_count": null,
      "outputs": []
    },
    {
      "cell_type": "code",
      "source": [
        "movies = soup.find('table', class_ = 'chart full-width').find_all('td', {'class': 'titleColumn'})\n"
      ],
      "metadata": {
        "id": "pMrPtewKKDV2"
      },
      "execution_count": null,
      "outputs": []
    },
    {
      "cell_type": "code",
      "source": [
        "\n",
        "\n",
        "links = []\n",
        "names = []\n",
        "movie_intro = []\n",
        "\n",
        "for movie in movies:\n",
        "  links.append('https://www.imdb.com'+ movie.find('a').get('href'))\n",
        "  response= requests.get('https://www.imdb.com'+movie.find('a').get('href'),headers)\n",
        "  soup = BeautifulSoup(response.content, 'lxml')\n",
        "  tag = soup.find('span', {'data-testid' :'plot-xl'})\n",
        "  movie_intro.append(tag.text)\n",
        "  names.append(movie.find('a').text)\n",
        "\n",
        "\n",
        "\n",
        "\n",
        "\n"
      ],
      "metadata": {
        "id": "AYjj8yEzHxEA"
      },
      "execution_count": null,
      "outputs": []
    },
    {
      "cell_type": "code",
      "source": [
        "import pandas as pd\n",
        "\n",
        "\n",
        "\n",
        "dict = {\n",
        "\n",
        "    'URL':links,\n",
        "    'Name':names,\n",
        "    'Movie Intro': movie_intro\n",
        "\n",
        "}\n",
        "\n",
        "df=pd.DataFrame(dict)"
      ],
      "metadata": {
        "id": "APJBmWExSgMd"
      },
      "execution_count": null,
      "outputs": []
    },
    {
      "cell_type": "code",
      "source": [
        "from pathlib import Path  \n",
        "filepath = Path('drive/MyDrive/Colab Notebooks/IMDB.csv')  \n",
        "filepath.parent.mkdir(parents=True, exist_ok=True)  \n",
        "df.to_csv(filepath,index=False)"
      ],
      "metadata": {
        "id": "WexY1YaeeRKP"
      },
      "execution_count": null,
      "outputs": []
    }
  ]
}